{
  "nbformat": 4,
  "nbformat_minor": 0,
  "metadata": {
    "colab": {
      "name": "Copy of Assignment_2.ipynb",
      "provenance": [],
      "collapsed_sections": []
    },
    "kernelspec": {
      "name": "python3",
      "display_name": "Python 3"
    },
    "accelerator": "GPU"
  },
  "cells": [
    {
      "cell_type": "code",
      "metadata": {
        "id": "_6uQTKVMlsW6",
        "colab_type": "code",
        "outputId": "46d8198e-c72d-4f75-da13-162c4ef2f416",
        "colab": {
          "base_uri": "https://localhost:8080/",
          "height": 33
        }
      },
      "source": [
        "import numpy as np\n",
        "import csv\n",
        "import pandas as pd\n",
        "import io\n",
        "\n",
        "from __future__ import absolute_import, division, print_function, unicode_literals\n",
        "# Install TensorFlow\n",
        "try:\n",
        "  # %tensorflow_version only exists in Colab.\n",
        "  %tensorflow_version 2.x\n",
        "except Exception:\n",
        "  pass\n",
        "import tensorflow as tf\n",
        "\n",
        "from google.colab import drive\n"
      ],
      "execution_count": 0,
      "outputs": [
        {
          "output_type": "stream",
          "text": [
            "TensorFlow 2.x selected.\n"
          ],
          "name": "stdout"
        }
      ]
    },
    {
      "cell_type": "code",
      "metadata": {
        "id": "_clSSZuAQisc",
        "colab_type": "code",
        "outputId": "c9c4a42d-fcb6-4406-f569-48e009c58975",
        "colab": {
          "base_uri": "https://localhost:8080/",
          "height": 120
        }
      },
      "source": [
        "# Mounts my google drive\n",
        "drive.mount('/content/drive')"
      ],
      "execution_count": 0,
      "outputs": [
        {
          "output_type": "stream",
          "text": [
            "Go to this URL in a browser: https://accounts.google.com/o/oauth2/auth?client_id=947318989803-6bn6qk8qdgf4n4g3pfee6491hc0brc4i.apps.googleusercontent.com&redirect_uri=urn%3Aietf%3Awg%3Aoauth%3A2.0%3Aoob&scope=email%20https%3A%2F%2Fwww.googleapis.com%2Fauth%2Fdocs.test%20https%3A%2F%2Fwww.googleapis.com%2Fauth%2Fdrive%20https%3A%2F%2Fwww.googleapis.com%2Fauth%2Fdrive.photos.readonly%20https%3A%2F%2Fwww.googleapis.com%2Fauth%2Fpeopleapi.readonly&response_type=code\n",
            "\n",
            "Enter your authorization code:\n",
            "··········\n",
            "Mounted at /content/drive\n"
          ],
          "name": "stdout"
        }
      ]
    },
    {
      "cell_type": "code",
      "metadata": {
        "id": "CgmPdscfSMLd",
        "colab_type": "code",
        "colab": {}
      },
      "source": [
        "# Reads data from .csv files uploaded to my google drive\n",
        "test_data = pd.read_csv('/content/drive/My Drive/cs4990-fall2019-assignment-2/test_data.csv')\n",
        "train_data = pd.read_csv('/content/drive/My Drive/cs4990-fall2019-assignment-2/train_data.csv')\n",
        "train_target = pd.read_csv('/content/drive/My Drive/cs4990-fall2019-assignment-2/train_target.csv')\n",
        "\n",
        "# stores the data into numpy arrays\n",
        "train_data = np.array(train_data)\n",
        "train_target = np.array(train_target)\n",
        "test_data = np.array(test_data)"
      ],
      "execution_count": 0,
      "outputs": []
    },
    {
      "cell_type": "code",
      "metadata": {
        "id": "d2G-SG9TYdjw",
        "colab_type": "code",
        "outputId": "10dec09d-6b9b-433d-c811-08d4a67586a1",
        "colab": {
          "base_uri": "https://localhost:8080/",
          "height": 67
        }
      },
      "source": [
        "# reshapes the data to fit our needs for CNN\n",
        "train_data = train_data.reshape((16174, 48, 48, 1))\n",
        "test_data = test_data.reshape((3964, 48, 48, 1))\n",
        "train_data = train_data.astype('float32')\n",
        "test_data = test_data.astype('float32')\n",
        "\n",
        "print(train_data.shape)\n",
        "print(train_target.shape)\n",
        "print(test_data.shape)\n"
      ],
      "execution_count": 0,
      "outputs": [
        {
          "output_type": "stream",
          "text": [
            "(16174, 48, 48, 1)\n",
            "(16174, 1)\n",
            "(3964, 48, 48, 1)\n"
          ],
          "name": "stdout"
        }
      ]
    },
    {
      "cell_type": "code",
      "metadata": {
        "id": "s6wlUWBVUSbh",
        "colab_type": "code",
        "outputId": "5012b662-b0ac-44ec-de8b-29263e9abad2",
        "colab": {
          "base_uri": "https://localhost:8080/",
          "height": 33
        }
      },
      "source": [
        "from sklearn.model_selection import train_test_split\n",
        "\n",
        "#splitting training data into training data and validation data\n",
        "X_train, X_valid, y_train, y_valid = train_test_split(train_data, train_target, test_size = 0.2, random_state = 42)\n",
        "print(X_train.shape)"
      ],
      "execution_count": 0,
      "outputs": [
        {
          "output_type": "stream",
          "text": [
            "(12939, 48, 48, 1)\n"
          ],
          "name": "stdout"
        }
      ]
    },
    {
      "cell_type": "code",
      "metadata": {
        "id": "wv_gcU5YVR6T",
        "colab_type": "code",
        "outputId": "94b03584-2732-4003-a87c-909a3d2f6401",
        "colab": {
          "base_uri": "https://localhost:8080/",
          "height": 1000
        }
      },
      "source": [
        "\n",
        "from tensorflow.keras import layers\n",
        "from tensorflow.keras import models\n",
        "\n",
        "#Creating the model using Sequential API\n",
        "\n",
        "model = models.Sequential()\n",
        "\n",
        "model.add(layers.Conv2D(64, (3, 3), activation='relu', input_shape = (48,48,1)))\n",
        "# model.add(layers.ZeroPadding2D((1,1)))\n",
        "# model.add(layers.Conv2D(64, (3, 3), activation = 'relu'))\n",
        "# model.add(layers.ZeroPadding2D((1,1)))\n",
        "# model.add(layers.Conv2D(64, (3, 3), activation = 'relu'))\n",
        "# model.add(layers.ZeroPadding2D((1,1)))\n",
        "# model.add(layers.Conv2D(64, (3, 3), activation = 'relu'))\n",
        "model.add(layers.MaxPooling2D((2, 2)))\n",
        "\n",
        "\n",
        "# model.add(layers.ZeroPadding2D((1,1)))\n",
        "# model.add(layers.Conv2D(128, (3, 3), activation = 'relu'))\n",
        "# model.add(layers.ZeroPadding2D((1,1)))\n",
        "# model.add(layers.Conv2D(128, (3, 3), activation = 'relu'))\n",
        "# model.add(layers.ZeroPadding2D((1,1)))\n",
        "# model.add(layers.Conv2D(128, (3, 3), activation = 'relu'))\n",
        "# model.add(layers.ZeroPadding2D((1,1)))\n",
        "model.add(layers.Conv2D(128, (3, 3), activation='relu'))\n",
        "model.add(layers.MaxPooling2D((2, 2)))\n",
        "\n",
        "# model.add(layers.ZeroPadding2D((1,1)))\n",
        "# model.add(layers.Conv2D(256, (3, 3), activation = 'relu'))\n",
        "# model.add(layers.ZeroPadding2D((1,1)))\n",
        "# model.add(layers.Conv2D(256, (3, 3), activation = 'relu'))\n",
        "# model.add(layers.ZeroPadding2D((1,1)))\n",
        "# model.add(layers.Conv2D(256, (3, 3), activation = 'relu'))\n",
        "# model.add(layers.ZeroPadding2D((1,1)))\n",
        "model.add(layers.Conv2D(256, (3, 3), activation = 'relu'))\n",
        "model.add(layers.MaxPooling2D((2, 2)))\n",
        "\n",
        "# model.add(layers.ZeroPadding2D((1,1)))\n",
        "# model.add(layers.Conv2D(512, (3, 3), activation = 'relu'))\n",
        "# model.add(layers.ZeroPadding2D((1,1)))\n",
        "# model.add(layers.Conv2D(512, (3, 3), activation = 'relu'))\n",
        "# model.add(layers.ZeroPadding2D((1,1)))\n",
        "# model.add(layers.Conv2D(512, (3, 3), activation = 'relu'))\n",
        "# model.add(layers.ZeroPadding2D((1,1)))\n",
        "model.add(layers.Conv2D(512, (3, 3), activation = 'relu'))\n",
        "model.add(layers.MaxPooling2D((2, 2)))\n",
        "\n",
        "\n",
        "model.add(layers.Flatten())\n",
        "model.add(layers.Dense(175, activation='relu'))\n",
        "model.add(layers.Dense(25, activation='softmax'))\n",
        "\n",
        "model.summary()"
      ],
      "execution_count": 0,
      "outputs": [
        {
          "output_type": "stream",
          "text": [
            "Model: \"sequential_11\"\n",
            "_________________________________________________________________\n",
            "Layer (type)                 Output Shape              Param #   \n",
            "=================================================================\n",
            "conv2d_77 (Conv2D)           (None, 46, 46, 64)        640       \n",
            "_________________________________________________________________\n",
            "zero_padding2d_44 (ZeroPaddi (None, 48, 48, 64)        0         \n",
            "_________________________________________________________________\n",
            "conv2d_78 (Conv2D)           (None, 46, 46, 64)        36928     \n",
            "_________________________________________________________________\n",
            "zero_padding2d_45 (ZeroPaddi (None, 48, 48, 64)        0         \n",
            "_________________________________________________________________\n",
            "conv2d_79 (Conv2D)           (None, 46, 46, 64)        36928     \n",
            "_________________________________________________________________\n",
            "zero_padding2d_46 (ZeroPaddi (None, 48, 48, 64)        0         \n",
            "_________________________________________________________________\n",
            "conv2d_80 (Conv2D)           (None, 46, 46, 64)        36928     \n",
            "_________________________________________________________________\n",
            "max_pooling2d_41 (MaxPooling (None, 23, 23, 64)        0         \n",
            "_________________________________________________________________\n",
            "zero_padding2d_47 (ZeroPaddi (None, 25, 25, 64)        0         \n",
            "_________________________________________________________________\n",
            "conv2d_81 (Conv2D)           (None, 23, 23, 128)       73856     \n",
            "_________________________________________________________________\n",
            "zero_padding2d_48 (ZeroPaddi (None, 25, 25, 128)       0         \n",
            "_________________________________________________________________\n",
            "conv2d_82 (Conv2D)           (None, 23, 23, 128)       147584    \n",
            "_________________________________________________________________\n",
            "zero_padding2d_49 (ZeroPaddi (None, 25, 25, 128)       0         \n",
            "_________________________________________________________________\n",
            "conv2d_83 (Conv2D)           (None, 23, 23, 128)       147584    \n",
            "_________________________________________________________________\n",
            "zero_padding2d_50 (ZeroPaddi (None, 25, 25, 128)       0         \n",
            "_________________________________________________________________\n",
            "conv2d_84 (Conv2D)           (None, 23, 23, 128)       147584    \n",
            "_________________________________________________________________\n",
            "max_pooling2d_42 (MaxPooling (None, 11, 11, 128)       0         \n",
            "_________________________________________________________________\n",
            "zero_padding2d_51 (ZeroPaddi (None, 13, 13, 128)       0         \n",
            "_________________________________________________________________\n",
            "conv2d_85 (Conv2D)           (None, 11, 11, 256)       295168    \n",
            "_________________________________________________________________\n",
            "zero_padding2d_52 (ZeroPaddi (None, 13, 13, 256)       0         \n",
            "_________________________________________________________________\n",
            "conv2d_86 (Conv2D)           (None, 11, 11, 256)       590080    \n",
            "_________________________________________________________________\n",
            "zero_padding2d_53 (ZeroPaddi (None, 13, 13, 256)       0         \n",
            "_________________________________________________________________\n",
            "conv2d_87 (Conv2D)           (None, 11, 11, 256)       590080    \n",
            "_________________________________________________________________\n",
            "zero_padding2d_54 (ZeroPaddi (None, 13, 13, 256)       0         \n",
            "_________________________________________________________________\n",
            "conv2d_88 (Conv2D)           (None, 11, 11, 256)       590080    \n",
            "_________________________________________________________________\n",
            "max_pooling2d_43 (MaxPooling (None, 5, 5, 256)         0         \n",
            "_________________________________________________________________\n",
            "zero_padding2d_55 (ZeroPaddi (None, 7, 7, 256)         0         \n",
            "_________________________________________________________________\n",
            "conv2d_89 (Conv2D)           (None, 5, 5, 512)         1180160   \n",
            "_________________________________________________________________\n",
            "zero_padding2d_56 (ZeroPaddi (None, 7, 7, 512)         0         \n",
            "_________________________________________________________________\n",
            "conv2d_90 (Conv2D)           (None, 5, 5, 512)         2359808   \n",
            "_________________________________________________________________\n",
            "zero_padding2d_57 (ZeroPaddi (None, 7, 7, 512)         0         \n",
            "_________________________________________________________________\n",
            "conv2d_91 (Conv2D)           (None, 5, 5, 512)         2359808   \n",
            "_________________________________________________________________\n",
            "zero_padding2d_58 (ZeroPaddi (None, 7, 7, 512)         0         \n",
            "_________________________________________________________________\n",
            "conv2d_92 (Conv2D)           (None, 5, 5, 512)         2359808   \n",
            "_________________________________________________________________\n",
            "max_pooling2d_44 (MaxPooling (None, 2, 2, 512)         0         \n",
            "_________________________________________________________________\n",
            "flatten_7 (Flatten)          (None, 2048)              0         \n",
            "_________________________________________________________________\n",
            "dense_14 (Dense)             (None, 175)               358575    \n",
            "_________________________________________________________________\n",
            "dense_15 (Dense)             (None, 25)                4400      \n",
            "=================================================================\n",
            "Total params: 11,315,999\n",
            "Trainable params: 11,315,999\n",
            "Non-trainable params: 0\n",
            "_________________________________________________________________\n"
          ],
          "name": "stdout"
        }
      ]
    },
    {
      "cell_type": "code",
      "metadata": {
        "id": "Z4X5x75vZkkg",
        "colab_type": "code",
        "outputId": "284ebf3b-e239-456e-8e9d-16fc5ff7ce20",
        "colab": {
          "base_uri": "https://localhost:8080/",
          "height": 1000
        }
      },
      "source": [
        "# Builds the model\n",
        "model.compile(optimizer='rmsprop',\n",
        "              loss='sparse_categorical_crossentropy',\n",
        "              metrics=['accuracy'])\n",
        "\n",
        "model.fit(X_train, y_train, epochs= 30, batch_size = 64, validation_data=(X_valid, y_valid))"
      ],
      "execution_count": 0,
      "outputs": [
        {
          "output_type": "stream",
          "text": [
            "Train on 12939 samples, validate on 3235 samples\n",
            "Epoch 1/30\n",
            "12939/12939 [==============================] - 46s 4ms/sample - loss: 65596.0711 - accuracy: 0.4151 - val_loss: 1.0904 - val_accuracy: 0.4393\n",
            "Epoch 2/30\n",
            "12939/12939 [==============================] - 43s 3ms/sample - loss: 1.0768 - accuracy: 0.4415 - val_loss: 1.0797 - val_accuracy: 0.4393\n",
            "Epoch 3/30\n",
            "12939/12939 [==============================] - 43s 3ms/sample - loss: 1.0721 - accuracy: 0.4477 - val_loss: 1.0799 - val_accuracy: 0.4393\n",
            "Epoch 4/30\n",
            "12939/12939 [==============================] - 43s 3ms/sample - loss: 1.0708 - accuracy: 0.4477 - val_loss: 1.0766 - val_accuracy: 0.4393\n",
            "Epoch 5/30\n",
            "12939/12939 [==============================] - 43s 3ms/sample - loss: 1.0697 - accuracy: 0.4477 - val_loss: 1.0742 - val_accuracy: 0.4393\n",
            "Epoch 6/30\n",
            "12939/12939 [==============================] - 43s 3ms/sample - loss: 1.0686 - accuracy: 0.4477 - val_loss: 1.0808 - val_accuracy: 0.4393\n",
            "Epoch 7/30\n",
            "12939/12939 [==============================] - 43s 3ms/sample - loss: 1.0686 - accuracy: 0.4477 - val_loss: 1.0730 - val_accuracy: 0.4393\n",
            "Epoch 8/30\n",
            "12939/12939 [==============================] - 43s 3ms/sample - loss: 1.0684 - accuracy: 0.4477 - val_loss: 1.0727 - val_accuracy: 0.4393\n",
            "Epoch 9/30\n",
            "12939/12939 [==============================] - 43s 3ms/sample - loss: 1.0683 - accuracy: 0.4477 - val_loss: 1.0725 - val_accuracy: 0.4393\n",
            "Epoch 10/30\n",
            "12939/12939 [==============================] - 43s 3ms/sample - loss: 1.0677 - accuracy: 0.4477 - val_loss: 1.0740 - val_accuracy: 0.4393\n",
            "Epoch 11/30\n",
            "12939/12939 [==============================] - 43s 3ms/sample - loss: 1.0675 - accuracy: 0.4477 - val_loss: 1.0735 - val_accuracy: 0.4393\n",
            "Epoch 12/30\n",
            "12939/12939 [==============================] - 43s 3ms/sample - loss: 1.0676 - accuracy: 0.4477 - val_loss: 1.0727 - val_accuracy: 0.4393\n",
            "Epoch 13/30\n",
            "12939/12939 [==============================] - 43s 3ms/sample - loss: 1.0676 - accuracy: 0.4477 - val_loss: 1.0751 - val_accuracy: 0.4393\n",
            "Epoch 14/30\n",
            "12939/12939 [==============================] - 42s 3ms/sample - loss: 1.0675 - accuracy: 0.4477 - val_loss: 1.0729 - val_accuracy: 0.4393\n",
            "Epoch 15/30\n",
            "12939/12939 [==============================] - 42s 3ms/sample - loss: 1.0677 - accuracy: 0.4477 - val_loss: 1.0725 - val_accuracy: 0.4393\n",
            "Epoch 16/30\n",
            "12939/12939 [==============================] - 42s 3ms/sample - loss: 1.0676 - accuracy: 0.4477 - val_loss: 1.0723 - val_accuracy: 0.4393\n",
            "Epoch 17/30\n",
            "12939/12939 [==============================] - 42s 3ms/sample - loss: 1.0674 - accuracy: 0.4477 - val_loss: 1.0723 - val_accuracy: 0.4393\n",
            "Epoch 18/30\n",
            "12939/12939 [==============================] - 42s 3ms/sample - loss: 1.0676 - accuracy: 0.4477 - val_loss: 1.0734 - val_accuracy: 0.4393\n",
            "Epoch 19/30\n",
            "12939/12939 [==============================] - 42s 3ms/sample - loss: 1.0674 - accuracy: 0.4477 - val_loss: 1.0725 - val_accuracy: 0.4393\n",
            "Epoch 20/30\n",
            "12939/12939 [==============================] - 42s 3ms/sample - loss: 1.0676 - accuracy: 0.4477 - val_loss: 1.0722 - val_accuracy: 0.4393\n",
            "Epoch 21/30\n",
            "12939/12939 [==============================] - 42s 3ms/sample - loss: 1.0675 - accuracy: 0.4477 - val_loss: 1.0735 - val_accuracy: 0.4393\n",
            "Epoch 22/30\n",
            "12939/12939 [==============================] - 42s 3ms/sample - loss: 1.0674 - accuracy: 0.4477 - val_loss: 1.0738 - val_accuracy: 0.4393\n",
            "Epoch 23/30\n",
            "12939/12939 [==============================] - 42s 3ms/sample - loss: 1.0675 - accuracy: 0.4477 - val_loss: 1.0723 - val_accuracy: 0.4393\n",
            "Epoch 24/30\n",
            "12939/12939 [==============================] - 42s 3ms/sample - loss: 1.0674 - accuracy: 0.4477 - val_loss: 1.0724 - val_accuracy: 0.4393\n",
            "Epoch 25/30\n",
            " 4736/12939 [=========>....................] - ETA: 24s - loss: 1.0688 - accuracy: 0.4495"
          ],
          "name": "stdout"
        },
        {
          "output_type": "error",
          "ename": "KeyboardInterrupt",
          "evalue": "ignored",
          "traceback": [
            "\u001b[0;31m---------------------------------------------------------------------------\u001b[0m",
            "\u001b[0;31mKeyboardInterrupt\u001b[0m                         Traceback (most recent call last)",
            "\u001b[0;32m<ipython-input-28-45a93848ac4c>\u001b[0m in \u001b[0;36m<module>\u001b[0;34m()\u001b[0m\n\u001b[1;32m      3\u001b[0m               metrics=['accuracy'])\n\u001b[1;32m      4\u001b[0m \u001b[0;34m\u001b[0m\u001b[0m\n\u001b[0;32m----> 5\u001b[0;31m \u001b[0mmodel\u001b[0m\u001b[0;34m.\u001b[0m\u001b[0mfit\u001b[0m\u001b[0;34m(\u001b[0m\u001b[0mX_train\u001b[0m\u001b[0;34m,\u001b[0m \u001b[0my_train\u001b[0m\u001b[0;34m,\u001b[0m \u001b[0mepochs\u001b[0m\u001b[0;34m=\u001b[0m \u001b[0;36m30\u001b[0m\u001b[0;34m,\u001b[0m \u001b[0mbatch_size\u001b[0m \u001b[0;34m=\u001b[0m \u001b[0;36m64\u001b[0m\u001b[0;34m,\u001b[0m \u001b[0mvalidation_data\u001b[0m\u001b[0;34m=\u001b[0m\u001b[0;34m(\u001b[0m\u001b[0mX_valid\u001b[0m\u001b[0;34m,\u001b[0m \u001b[0my_valid\u001b[0m\u001b[0;34m)\u001b[0m\u001b[0;34m)\u001b[0m\u001b[0;34m\u001b[0m\u001b[0;34m\u001b[0m\u001b[0m\n\u001b[0m",
            "\u001b[0;32m/tensorflow-2.0.0/python3.6/tensorflow_core/python/keras/engine/training.py\u001b[0m in \u001b[0;36mfit\u001b[0;34m(self, x, y, batch_size, epochs, verbose, callbacks, validation_split, validation_data, shuffle, class_weight, sample_weight, initial_epoch, steps_per_epoch, validation_steps, validation_freq, max_queue_size, workers, use_multiprocessing, **kwargs)\u001b[0m\n\u001b[1;32m    726\u001b[0m         \u001b[0mmax_queue_size\u001b[0m\u001b[0;34m=\u001b[0m\u001b[0mmax_queue_size\u001b[0m\u001b[0;34m,\u001b[0m\u001b[0;34m\u001b[0m\u001b[0;34m\u001b[0m\u001b[0m\n\u001b[1;32m    727\u001b[0m         \u001b[0mworkers\u001b[0m\u001b[0;34m=\u001b[0m\u001b[0mworkers\u001b[0m\u001b[0;34m,\u001b[0m\u001b[0;34m\u001b[0m\u001b[0;34m\u001b[0m\u001b[0m\n\u001b[0;32m--> 728\u001b[0;31m         use_multiprocessing=use_multiprocessing)\n\u001b[0m\u001b[1;32m    729\u001b[0m \u001b[0;34m\u001b[0m\u001b[0m\n\u001b[1;32m    730\u001b[0m   def evaluate(self,\n",
            "\u001b[0;32m/tensorflow-2.0.0/python3.6/tensorflow_core/python/keras/engine/training_v2.py\u001b[0m in \u001b[0;36mfit\u001b[0;34m(self, model, x, y, batch_size, epochs, verbose, callbacks, validation_split, validation_data, shuffle, class_weight, sample_weight, initial_epoch, steps_per_epoch, validation_steps, validation_freq, **kwargs)\u001b[0m\n\u001b[1;32m    322\u001b[0m                 \u001b[0mmode\u001b[0m\u001b[0;34m=\u001b[0m\u001b[0mModeKeys\u001b[0m\u001b[0;34m.\u001b[0m\u001b[0mTRAIN\u001b[0m\u001b[0;34m,\u001b[0m\u001b[0;34m\u001b[0m\u001b[0;34m\u001b[0m\u001b[0m\n\u001b[1;32m    323\u001b[0m                 \u001b[0mtraining_context\u001b[0m\u001b[0;34m=\u001b[0m\u001b[0mtraining_context\u001b[0m\u001b[0;34m,\u001b[0m\u001b[0;34m\u001b[0m\u001b[0;34m\u001b[0m\u001b[0m\n\u001b[0;32m--> 324\u001b[0;31m                 total_epochs=epochs)\n\u001b[0m\u001b[1;32m    325\u001b[0m             \u001b[0mcbks\u001b[0m\u001b[0;34m.\u001b[0m\u001b[0mmake_logs\u001b[0m\u001b[0;34m(\u001b[0m\u001b[0mmodel\u001b[0m\u001b[0;34m,\u001b[0m \u001b[0mepoch_logs\u001b[0m\u001b[0;34m,\u001b[0m \u001b[0mtraining_result\u001b[0m\u001b[0;34m,\u001b[0m \u001b[0mModeKeys\u001b[0m\u001b[0;34m.\u001b[0m\u001b[0mTRAIN\u001b[0m\u001b[0;34m)\u001b[0m\u001b[0;34m\u001b[0m\u001b[0;34m\u001b[0m\u001b[0m\n\u001b[1;32m    326\u001b[0m \u001b[0;34m\u001b[0m\u001b[0m\n",
            "\u001b[0;32m/tensorflow-2.0.0/python3.6/tensorflow_core/python/keras/engine/training_v2.py\u001b[0m in \u001b[0;36mrun_one_epoch\u001b[0;34m(model, iterator, execution_function, dataset_size, batch_size, strategy, steps_per_epoch, num_samples, mode, training_context, total_epochs)\u001b[0m\n\u001b[1;32m    121\u001b[0m         step=step, mode=mode, size=current_batch_size) as batch_logs:\n\u001b[1;32m    122\u001b[0m       \u001b[0;32mtry\u001b[0m\u001b[0;34m:\u001b[0m\u001b[0;34m\u001b[0m\u001b[0;34m\u001b[0m\u001b[0m\n\u001b[0;32m--> 123\u001b[0;31m         \u001b[0mbatch_outs\u001b[0m \u001b[0;34m=\u001b[0m \u001b[0mexecution_function\u001b[0m\u001b[0;34m(\u001b[0m\u001b[0miterator\u001b[0m\u001b[0;34m)\u001b[0m\u001b[0;34m\u001b[0m\u001b[0;34m\u001b[0m\u001b[0m\n\u001b[0m\u001b[1;32m    124\u001b[0m       \u001b[0;32mexcept\u001b[0m \u001b[0;34m(\u001b[0m\u001b[0mStopIteration\u001b[0m\u001b[0;34m,\u001b[0m \u001b[0merrors\u001b[0m\u001b[0;34m.\u001b[0m\u001b[0mOutOfRangeError\u001b[0m\u001b[0;34m)\u001b[0m\u001b[0;34m:\u001b[0m\u001b[0;34m\u001b[0m\u001b[0;34m\u001b[0m\u001b[0m\n\u001b[1;32m    125\u001b[0m         \u001b[0;31m# TODO(kaftan): File bug about tf function and errors.OutOfRangeError?\u001b[0m\u001b[0;34m\u001b[0m\u001b[0;34m\u001b[0m\u001b[0;34m\u001b[0m\u001b[0m\n",
            "\u001b[0;32m/tensorflow-2.0.0/python3.6/tensorflow_core/python/keras/engine/training_v2_utils.py\u001b[0m in \u001b[0;36mexecution_function\u001b[0;34m(input_fn)\u001b[0m\n\u001b[1;32m     84\u001b[0m     \u001b[0;31m# `numpy` translates Tensors to values in Eager mode.\u001b[0m\u001b[0;34m\u001b[0m\u001b[0;34m\u001b[0m\u001b[0;34m\u001b[0m\u001b[0m\n\u001b[1;32m     85\u001b[0m     return nest.map_structure(_non_none_constant_value,\n\u001b[0;32m---> 86\u001b[0;31m                               distributed_function(input_fn))\n\u001b[0m\u001b[1;32m     87\u001b[0m \u001b[0;34m\u001b[0m\u001b[0m\n\u001b[1;32m     88\u001b[0m   \u001b[0;32mreturn\u001b[0m \u001b[0mexecution_function\u001b[0m\u001b[0;34m\u001b[0m\u001b[0;34m\u001b[0m\u001b[0m\n",
            "\u001b[0;32m/tensorflow-2.0.0/python3.6/tensorflow_core/python/eager/def_function.py\u001b[0m in \u001b[0;36m__call__\u001b[0;34m(self, *args, **kwds)\u001b[0m\n\u001b[1;32m    455\u001b[0m \u001b[0;34m\u001b[0m\u001b[0m\n\u001b[1;32m    456\u001b[0m     \u001b[0mtracing_count\u001b[0m \u001b[0;34m=\u001b[0m \u001b[0mself\u001b[0m\u001b[0;34m.\u001b[0m\u001b[0m_get_tracing_count\u001b[0m\u001b[0;34m(\u001b[0m\u001b[0;34m)\u001b[0m\u001b[0;34m\u001b[0m\u001b[0;34m\u001b[0m\u001b[0m\n\u001b[0;32m--> 457\u001b[0;31m     \u001b[0mresult\u001b[0m \u001b[0;34m=\u001b[0m \u001b[0mself\u001b[0m\u001b[0;34m.\u001b[0m\u001b[0m_call\u001b[0m\u001b[0;34m(\u001b[0m\u001b[0;34m*\u001b[0m\u001b[0margs\u001b[0m\u001b[0;34m,\u001b[0m \u001b[0;34m**\u001b[0m\u001b[0mkwds\u001b[0m\u001b[0;34m)\u001b[0m\u001b[0;34m\u001b[0m\u001b[0;34m\u001b[0m\u001b[0m\n\u001b[0m\u001b[1;32m    458\u001b[0m     \u001b[0;32mif\u001b[0m \u001b[0mtracing_count\u001b[0m \u001b[0;34m==\u001b[0m \u001b[0mself\u001b[0m\u001b[0;34m.\u001b[0m\u001b[0m_get_tracing_count\u001b[0m\u001b[0;34m(\u001b[0m\u001b[0;34m)\u001b[0m\u001b[0;34m:\u001b[0m\u001b[0;34m\u001b[0m\u001b[0;34m\u001b[0m\u001b[0m\n\u001b[1;32m    459\u001b[0m       \u001b[0mself\u001b[0m\u001b[0;34m.\u001b[0m\u001b[0m_call_counter\u001b[0m\u001b[0;34m.\u001b[0m\u001b[0mcalled_without_tracing\u001b[0m\u001b[0;34m(\u001b[0m\u001b[0;34m)\u001b[0m\u001b[0;34m\u001b[0m\u001b[0;34m\u001b[0m\u001b[0m\n",
            "\u001b[0;32m/tensorflow-2.0.0/python3.6/tensorflow_core/python/eager/def_function.py\u001b[0m in \u001b[0;36m_call\u001b[0;34m(self, *args, **kwds)\u001b[0m\n\u001b[1;32m    485\u001b[0m       \u001b[0;31m# In this case we have created variables on the first call, so we run the\u001b[0m\u001b[0;34m\u001b[0m\u001b[0;34m\u001b[0m\u001b[0;34m\u001b[0m\u001b[0m\n\u001b[1;32m    486\u001b[0m       \u001b[0;31m# defunned version which is guaranteed to never create variables.\u001b[0m\u001b[0;34m\u001b[0m\u001b[0;34m\u001b[0m\u001b[0;34m\u001b[0m\u001b[0m\n\u001b[0;32m--> 487\u001b[0;31m       \u001b[0;32mreturn\u001b[0m \u001b[0mself\u001b[0m\u001b[0;34m.\u001b[0m\u001b[0m_stateless_fn\u001b[0m\u001b[0;34m(\u001b[0m\u001b[0;34m*\u001b[0m\u001b[0margs\u001b[0m\u001b[0;34m,\u001b[0m \u001b[0;34m**\u001b[0m\u001b[0mkwds\u001b[0m\u001b[0;34m)\u001b[0m  \u001b[0;31m# pylint: disable=not-callable\u001b[0m\u001b[0;34m\u001b[0m\u001b[0;34m\u001b[0m\u001b[0m\n\u001b[0m\u001b[1;32m    488\u001b[0m     \u001b[0;32melif\u001b[0m \u001b[0mself\u001b[0m\u001b[0;34m.\u001b[0m\u001b[0m_stateful_fn\u001b[0m \u001b[0;32mis\u001b[0m \u001b[0;32mnot\u001b[0m \u001b[0;32mNone\u001b[0m\u001b[0;34m:\u001b[0m\u001b[0;34m\u001b[0m\u001b[0;34m\u001b[0m\u001b[0m\n\u001b[1;32m    489\u001b[0m       \u001b[0;31m# Release the lock early so that multiple threads can perform the call\u001b[0m\u001b[0;34m\u001b[0m\u001b[0;34m\u001b[0m\u001b[0;34m\u001b[0m\u001b[0m\n",
            "\u001b[0;32m/tensorflow-2.0.0/python3.6/tensorflow_core/python/eager/function.py\u001b[0m in \u001b[0;36m__call__\u001b[0;34m(self, *args, **kwargs)\u001b[0m\n\u001b[1;32m   1821\u001b[0m     \u001b[0;34m\"\"\"Calls a graph function specialized to the inputs.\"\"\"\u001b[0m\u001b[0;34m\u001b[0m\u001b[0;34m\u001b[0m\u001b[0m\n\u001b[1;32m   1822\u001b[0m     \u001b[0mgraph_function\u001b[0m\u001b[0;34m,\u001b[0m \u001b[0margs\u001b[0m\u001b[0;34m,\u001b[0m \u001b[0mkwargs\u001b[0m \u001b[0;34m=\u001b[0m \u001b[0mself\u001b[0m\u001b[0;34m.\u001b[0m\u001b[0m_maybe_define_function\u001b[0m\u001b[0;34m(\u001b[0m\u001b[0margs\u001b[0m\u001b[0;34m,\u001b[0m \u001b[0mkwargs\u001b[0m\u001b[0;34m)\u001b[0m\u001b[0;34m\u001b[0m\u001b[0;34m\u001b[0m\u001b[0m\n\u001b[0;32m-> 1823\u001b[0;31m     \u001b[0;32mreturn\u001b[0m \u001b[0mgraph_function\u001b[0m\u001b[0;34m.\u001b[0m\u001b[0m_filtered_call\u001b[0m\u001b[0;34m(\u001b[0m\u001b[0margs\u001b[0m\u001b[0;34m,\u001b[0m \u001b[0mkwargs\u001b[0m\u001b[0;34m)\u001b[0m  \u001b[0;31m# pylint: disable=protected-access\u001b[0m\u001b[0;34m\u001b[0m\u001b[0;34m\u001b[0m\u001b[0m\n\u001b[0m\u001b[1;32m   1824\u001b[0m \u001b[0;34m\u001b[0m\u001b[0m\n\u001b[1;32m   1825\u001b[0m   \u001b[0;34m@\u001b[0m\u001b[0mproperty\u001b[0m\u001b[0;34m\u001b[0m\u001b[0;34m\u001b[0m\u001b[0m\n",
            "\u001b[0;32m/tensorflow-2.0.0/python3.6/tensorflow_core/python/eager/function.py\u001b[0m in \u001b[0;36m_filtered_call\u001b[0;34m(self, args, kwargs)\u001b[0m\n\u001b[1;32m   1139\u001b[0m          if isinstance(t, (ops.Tensor,\n\u001b[1;32m   1140\u001b[0m                            resource_variable_ops.BaseResourceVariable))),\n\u001b[0;32m-> 1141\u001b[0;31m         self.captured_inputs)\n\u001b[0m\u001b[1;32m   1142\u001b[0m \u001b[0;34m\u001b[0m\u001b[0m\n\u001b[1;32m   1143\u001b[0m   \u001b[0;32mdef\u001b[0m \u001b[0m_call_flat\u001b[0m\u001b[0;34m(\u001b[0m\u001b[0mself\u001b[0m\u001b[0;34m,\u001b[0m \u001b[0margs\u001b[0m\u001b[0;34m,\u001b[0m \u001b[0mcaptured_inputs\u001b[0m\u001b[0;34m,\u001b[0m \u001b[0mcancellation_manager\u001b[0m\u001b[0;34m=\u001b[0m\u001b[0;32mNone\u001b[0m\u001b[0;34m)\u001b[0m\u001b[0;34m:\u001b[0m\u001b[0;34m\u001b[0m\u001b[0;34m\u001b[0m\u001b[0m\n",
            "\u001b[0;32m/tensorflow-2.0.0/python3.6/tensorflow_core/python/eager/function.py\u001b[0m in \u001b[0;36m_call_flat\u001b[0;34m(self, args, captured_inputs, cancellation_manager)\u001b[0m\n\u001b[1;32m   1222\u001b[0m     \u001b[0;32mif\u001b[0m \u001b[0mexecuting_eagerly\u001b[0m\u001b[0;34m:\u001b[0m\u001b[0;34m\u001b[0m\u001b[0;34m\u001b[0m\u001b[0m\n\u001b[1;32m   1223\u001b[0m       flat_outputs = forward_function.call(\n\u001b[0;32m-> 1224\u001b[0;31m           ctx, args, cancellation_manager=cancellation_manager)\n\u001b[0m\u001b[1;32m   1225\u001b[0m     \u001b[0;32melse\u001b[0m\u001b[0;34m:\u001b[0m\u001b[0;34m\u001b[0m\u001b[0;34m\u001b[0m\u001b[0m\n\u001b[1;32m   1226\u001b[0m       \u001b[0mgradient_name\u001b[0m \u001b[0;34m=\u001b[0m \u001b[0mself\u001b[0m\u001b[0;34m.\u001b[0m\u001b[0m_delayed_rewrite_functions\u001b[0m\u001b[0;34m.\u001b[0m\u001b[0mregister\u001b[0m\u001b[0;34m(\u001b[0m\u001b[0;34m)\u001b[0m\u001b[0;34m\u001b[0m\u001b[0;34m\u001b[0m\u001b[0m\n",
            "\u001b[0;32m/tensorflow-2.0.0/python3.6/tensorflow_core/python/eager/function.py\u001b[0m in \u001b[0;36mcall\u001b[0;34m(self, ctx, args, cancellation_manager)\u001b[0m\n\u001b[1;32m    509\u001b[0m               \u001b[0minputs\u001b[0m\u001b[0;34m=\u001b[0m\u001b[0margs\u001b[0m\u001b[0;34m,\u001b[0m\u001b[0;34m\u001b[0m\u001b[0;34m\u001b[0m\u001b[0m\n\u001b[1;32m    510\u001b[0m               \u001b[0mattrs\u001b[0m\u001b[0;34m=\u001b[0m\u001b[0;34m(\u001b[0m\u001b[0;34m\"executor_type\"\u001b[0m\u001b[0;34m,\u001b[0m \u001b[0mexecutor_type\u001b[0m\u001b[0;34m,\u001b[0m \u001b[0;34m\"config_proto\"\u001b[0m\u001b[0;34m,\u001b[0m \u001b[0mconfig\u001b[0m\u001b[0;34m)\u001b[0m\u001b[0;34m,\u001b[0m\u001b[0;34m\u001b[0m\u001b[0;34m\u001b[0m\u001b[0m\n\u001b[0;32m--> 511\u001b[0;31m               ctx=ctx)\n\u001b[0m\u001b[1;32m    512\u001b[0m         \u001b[0;32melse\u001b[0m\u001b[0;34m:\u001b[0m\u001b[0;34m\u001b[0m\u001b[0;34m\u001b[0m\u001b[0m\n\u001b[1;32m    513\u001b[0m           outputs = execute.execute_with_cancellation(\n",
            "\u001b[0;32m/tensorflow-2.0.0/python3.6/tensorflow_core/python/eager/execute.py\u001b[0m in \u001b[0;36mquick_execute\u001b[0;34m(op_name, num_outputs, inputs, attrs, ctx, name)\u001b[0m\n\u001b[1;32m     59\u001b[0m     tensors = pywrap_tensorflow.TFE_Py_Execute(ctx._handle, device_name,\n\u001b[1;32m     60\u001b[0m                                                \u001b[0mop_name\u001b[0m\u001b[0;34m,\u001b[0m \u001b[0minputs\u001b[0m\u001b[0;34m,\u001b[0m \u001b[0mattrs\u001b[0m\u001b[0;34m,\u001b[0m\u001b[0;34m\u001b[0m\u001b[0;34m\u001b[0m\u001b[0m\n\u001b[0;32m---> 61\u001b[0;31m                                                num_outputs)\n\u001b[0m\u001b[1;32m     62\u001b[0m   \u001b[0;32mexcept\u001b[0m \u001b[0mcore\u001b[0m\u001b[0;34m.\u001b[0m\u001b[0m_NotOkStatusException\u001b[0m \u001b[0;32mas\u001b[0m \u001b[0me\u001b[0m\u001b[0;34m:\u001b[0m\u001b[0;34m\u001b[0m\u001b[0;34m\u001b[0m\u001b[0m\n\u001b[1;32m     63\u001b[0m     \u001b[0;32mif\u001b[0m \u001b[0mname\u001b[0m \u001b[0;32mis\u001b[0m \u001b[0;32mnot\u001b[0m \u001b[0;32mNone\u001b[0m\u001b[0;34m:\u001b[0m\u001b[0;34m\u001b[0m\u001b[0;34m\u001b[0m\u001b[0m\n",
            "\u001b[0;31mKeyboardInterrupt\u001b[0m: "
          ]
        }
      ]
    },
    {
      "cell_type": "code",
      "metadata": {
        "id": "yU3ObLeSs9TV",
        "colab_type": "code",
        "outputId": "a679a9d4-5a6e-4c8e-f247-992ee9e4b420",
        "colab": {
          "base_uri": "https://localhost:8080/",
          "height": 67
        }
      },
      "source": [
        "# Uses the built model to predict the testing data\n",
        "y_predict = model.predict(test_data)\n",
        "print(y_predict.shape)\n",
        "y_predict = np.argmax(y_predict, axis = 1)\n",
        "print (y_predict)\n",
        "print(y_predict.shape)"
      ],
      "execution_count": 0,
      "outputs": [
        {
          "output_type": "stream",
          "text": [
            "(3964, 25)\n",
            "[0 1 1 ... 1 2 0]\n",
            "(3964,)\n"
          ],
          "name": "stdout"
        }
      ]
    },
    {
      "cell_type": "code",
      "metadata": {
        "id": "F89yLJY5-Xpo",
        "colab_type": "code",
        "colab": {}
      },
      "source": [
        "# Stores the results of predicted the test data into a .csv file for submission\n",
        "predictions = pd.DataFrame(y_predict).to_csv('/content/drive/My Drive/cs4990-fall2019-assignment-2/cnn_submission.csv')"
      ],
      "execution_count": 0,
      "outputs": []
    }
  ]
}